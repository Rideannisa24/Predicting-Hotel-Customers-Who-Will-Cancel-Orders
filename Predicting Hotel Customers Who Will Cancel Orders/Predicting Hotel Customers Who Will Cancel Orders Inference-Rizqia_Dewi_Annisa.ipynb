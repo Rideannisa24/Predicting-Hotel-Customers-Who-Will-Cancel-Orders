{
 "cells": [
  {
   "cell_type": "code",
   "execution_count": null,
   "metadata": {},
   "outputs": [],
   "source": [
    "# Introduction"
   ]
  },
  {
   "cell_type": "code",
   "execution_count": 1,
   "metadata": {},
   "outputs": [
    {
     "name": "stdout",
     "output_type": "stream",
     "text": [
      "WARNING:tensorflow:From c:\\Users\\Rizqia Dewi Annisa\\AppData\\Local\\Programs\\Python\\Python311\\Lib\\site-packages\\keras\\src\\losses.py:2976: The name tf.losses.sparse_softmax_cross_entropy is deprecated. Please use tf.compat.v1.losses.sparse_softmax_cross_entropy instead.\n",
      "\n"
     ]
    }
   ],
   "source": [
    "import pandas as pd\n",
    "import numpy as np\n",
    "from tensorflow.keras.models import load_model\n",
    "import joblib"
   ]
  },
  {
   "cell_type": "markdown",
   "metadata": {},
   "source": [
    "# Data Loading "
   ]
  },
  {
   "cell_type": "code",
   "execution_count": 3,
   "metadata": {},
   "outputs": [
    {
     "name": "stdout",
     "output_type": "stream",
     "text": [
      "WARNING:tensorflow:From c:\\Users\\Rizqia Dewi Annisa\\AppData\\Local\\Programs\\Python\\Python311\\Lib\\site-packages\\keras\\src\\backend.py:1398: The name tf.executing_eagerly_outside_functions is deprecated. Please use tf.compat.v1.executing_eagerly_outside_functions instead.\n",
      "\n",
      "WARNING:tensorflow:From c:\\Users\\Rizqia Dewi Annisa\\AppData\\Local\\Programs\\Python\\Python311\\Lib\\site-packages\\keras\\src\\optimizers\\__init__.py:309: The name tf.train.Optimizer is deprecated. Please use tf.compat.v1.train.Optimizer instead.\n",
      "\n"
     ]
    }
   ],
   "source": [
    "model = load_model('best_model.keras')\n",
    "preprocess = joblib.load('preprocess.joblib')"
   ]
  },
  {
   "cell_type": "code",
   "execution_count": 4,
   "metadata": {},
   "outputs": [],
   "source": [
    "def prediction(model, X):\n",
    "  y_pred = model.predict(X)\n",
    "  predictions = np.where(y_pred>= 0.5, 1, 0)\n",
    "  for index, val in enumerate(predictions, 1):\n",
    "    if val == 0:\n",
    "      print(f\"Customer {index} is going to NOT CANCEL\")\n",
    "    else:\n",
    "      print(f\"Customer {index} is going to CANCEL\")"
   ]
  },
  {
   "cell_type": "markdown",
   "metadata": {},
   "source": [
    "# Model Inference "
   ]
  },
  {
   "cell_type": "code",
   "execution_count": 5,
   "metadata": {},
   "outputs": [],
   "source": [
    "data= {\n",
    "    'no_of_adults': [2],\n",
    "    'no_of_children': [3],\n",
    "    'no_of_weekend_nights': [2],\n",
    "    'no_of_week_nights': [2],\n",
    "    'type_of_meal_plan': ['Meal Plan 1'],\n",
    "    'required_car_parking_space': [0],\n",
    "    'room_type_reserved': ['Room_Type 1'],\n",
    "      'lead_time': [224],\n",
    "      'arrival_year': [2017],\n",
    "      'arrival_month': [10],\n",
    "      'arrival_date': [2],\n",
    "      'market_segment_type': ['Offline'],\n",
    "      'repeated_guest': [0],\n",
    "      'no_of_previous_cancellations': [0],\n",
    "      'no_of_previous_bookings_not_canceled': [0],\n",
    "      'avg_price_per_room': [65.0],\n",
    "      'no_of_special_requests': [0],\n",
    "}\n",
    "\n",
    "data_inf= pd.DataFrame(data)"
   ]
  },
  {
   "cell_type": "code",
   "execution_count": 6,
   "metadata": {},
   "outputs": [],
   "source": [
    "# preprocess\n",
    "X= preprocess.transform(data_inf)"
   ]
  },
  {
   "cell_type": "code",
   "execution_count": 7,
   "metadata": {},
   "outputs": [
    {
     "name": "stdout",
     "output_type": "stream",
     "text": [
      "1/1 [==============================] - 0s 111ms/step\n",
      "Customer 1 is going to NOT CANCEL\n"
     ]
    }
   ],
   "source": [
    "# calling prediction\n",
    "prediction(model, X)"
   ]
  }
 ],
 "metadata": {
  "kernelspec": {
   "display_name": "Python 3",
   "language": "python",
   "name": "python3"
  },
  "language_info": {
   "codemirror_mode": {
    "name": "ipython",
    "version": 3
   },
   "file_extension": ".py",
   "mimetype": "text/x-python",
   "name": "python",
   "nbconvert_exporter": "python",
   "pygments_lexer": "ipython3",
   "version": "3.11.5"
  }
 },
 "nbformat": 4,
 "nbformat_minor": 2
}
